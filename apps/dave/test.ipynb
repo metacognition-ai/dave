{
 "cells": [
  {
   "cell_type": "code",
   "execution_count": 1,
   "metadata": {},
   "outputs": [],
   "source": [
    "import argparse\n",
    "import logging\n",
    "import subprocess\n",
    "\n",
    "from agent.prompt import PROMPT\n",
    "from agent.utils import process_repository\n",
    "\n",
    "from dotenv import load_dotenv\n",
    "import os\n",
    "\n",
    "from langchain.llms import OpenAI\n",
    "from langchain_openai import ChatOpenAI\n",
    "from langchain.chains import ConversationChain\n",
    "from langchain.memory import ChatMessageHistory\n",
    "from langchain.memory import ConversationBufferMemory\n",
    "from langchain.memory import ConversationBufferWindowMemory\n",
    "from langchain.agents import AgentExecutor, create_openai_tools_agent\n",
    "from langchain import hub\n",
    "from langchain.tools import tool\n",
    "from langchain.agents import initialize_agent\n",
    "from langchain.tools import BaseTool\n",
    "\n",
    "from typing import Union\n",
    "from math import pi"
   ]
  },
  {
   "cell_type": "code",
   "execution_count": 4,
   "metadata": {},
   "outputs": [
    {
     "name": "stdout",
     "output_type": "stream",
     "text": [
      "\n",
      "\n",
      "\u001b[1m> Entering new AgentExecutor chain...\u001b[0m\n",
      "\u001b[32;1m\u001b[1;3m```json\n",
      "{\n",
      "    \"action\": \"Circumference calculator\",\n",
      "    \"action_input\": \"7.81\"\n",
      "}\n",
      "```\u001b[0m\n",
      "Observation: \u001b[36;1m\u001b[1;3m49.071677249072565\u001b[0m\n",
      "Thought:\u001b[32;1m\u001b[1;3m```json\n",
      "{\n",
      "    \"action\": \"Final Answer\",\n",
      "    \"action_input\": \"The circumference of a circle with a radius of 7.81mm is approximately 49.07mm.\"\n",
      "}\n",
      "```\u001b[0m\n",
      "\n",
      "\u001b[1m> Finished chain.\u001b[0m\n"
     ]
    },
    {
     "data": {
      "text/plain": [
       "{'input': 'can you calculate the circumference of a circle that has a radius of 7.81mm',\n",
       " 'chat_history': [],\n",
       " 'output': 'The circumference of a circle with a radius of 7.81mm is approximately 49.07mm.'}"
      ]
     },
     "execution_count": 4,
     "metadata": {},
     "output_type": "execute_result"
    }
   ],
   "source": [
    "class CircumferenceTool(BaseTool):\n",
    "    name = \"Circumference calculator\"\n",
    "    description = \"use this tool when you need to calculate a circumference using the radius of a circle\"\n",
    "\n",
    "    def _run(self, radius: Union[int, float]):\n",
    "        return float(radius)*2.0*pi\n",
    "\n",
    "    def _arun(self, radius: int):\n",
    "        raise NotImplementedError(\"This tool does not support async\")\n",
    "    \n",
    "class SimpleAgentV2:\n",
    "    def __init__(self):\n",
    "        self.api_key = self.get_api_key()\n",
    "        self.llm = ChatOpenAI(openai_api_key=self.api_key, temperature=0, model=\"gpt-3.5-turbo\")\n",
    "        self.memory = ConversationBufferMemory(\n",
    "                memory_key='chat_history',\n",
    "                k=5,\n",
    "                return_messages=True\n",
    "        )\n",
    "        \n",
    "        self.tools = [CircumferenceTool()]\n",
    "\n",
    "        self.agent = initialize_agent(\n",
    "            agent='chat-conversational-react-description',\n",
    "            tools=self.tools,\n",
    "            llm=self.llm,\n",
    "            verbose=True,\n",
    "            max_iterations=3,\n",
    "            early_stopping_method='generate',\n",
    "            memory=self.memory\n",
    "        )\n",
    "\n",
    "    @staticmethod\n",
    "    def get_api_key():\n",
    "        load_dotenv()\n",
    "        return os.getenv(\"OPENAI_API_KEY\")\n",
    "    \n",
    "    def run_conversation(self, prompt):\n",
    "        response = self.conv(prompt)\n",
    "        return response\n",
    "    \n",
    "    def run(self, prompt):\n",
    "        return self.agent(prompt)\n",
    "\n",
    "# task_description = \"\"\"\n",
    "# I am running into an issue where the time my react page is \n",
    "# supposed to display is just 0 instead of the current timestamp. Fix this issue.\n",
    "# \"\"\"\n",
    "\n",
    "# task_name = \"fix_react_timestamp\"\n",
    "# use_mock = False\n",
    "\n",
    "# repository_context = process_repository(\"/Users/inafi/Develop/Github/dave/apps/dave/example-task\")\n",
    "\n",
    "# agent_prompt = PROMPT.format(task_description=task_description, repository_context=repository_context)\n",
    "\n",
    "agent = SimpleAgentV2()\n",
    "\n",
    "agent.run(\"can you calculate the circumference of a circle that has a radius of 7.81mm\")"
   ]
  },
  {
   "cell_type": "code",
   "execution_count": null,
   "metadata": {},
   "outputs": [],
   "source": []
  }
 ],
 "metadata": {
  "kernelspec": {
   "display_name": "base",
   "language": "python",
   "name": "python3"
  },
  "language_info": {
   "codemirror_mode": {
    "name": "ipython",
    "version": 3
   },
   "file_extension": ".py",
   "mimetype": "text/x-python",
   "name": "python",
   "nbconvert_exporter": "python",
   "pygments_lexer": "ipython3",
   "version": "3.9.16"
  }
 },
 "nbformat": 4,
 "nbformat_minor": 2
}
